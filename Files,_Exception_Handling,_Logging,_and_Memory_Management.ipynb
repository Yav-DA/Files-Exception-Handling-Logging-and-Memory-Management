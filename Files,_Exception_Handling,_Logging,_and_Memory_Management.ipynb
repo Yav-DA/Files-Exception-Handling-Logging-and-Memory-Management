{
  "nbformat": 4,
  "nbformat_minor": 0,
  "metadata": {
    "colab": {
      "provenance": []
    },
    "kernelspec": {
      "name": "python3",
      "display_name": "Python 3"
    },
    "language_info": {
      "name": "python"
    }
  },
  "cells": [
    {
      "cell_type": "markdown",
      "source": [
        "THEORETICAL ANSWERS"
      ],
      "metadata": {
        "id": "FL6WjDtL7GhC"
      }
    },
    {
      "cell_type": "markdown",
      "source": [
        "1. Difference between interpreted and compiled languages\n",
        "* Interpreted languages execute code line by line (like Python), making debugging easier but slower.\n",
        "\n",
        "* Compiled languages (like Java or C++) are translated entirely into machine code before running, offering better performance.\n",
        "\n",
        "2. What is exception handling in Python?\n",
        "* It’s a way to manage errors during code execution without crashing the program. You can catch and respond to errors using try, except, finally, etc.\n",
        "\n",
        "3. Purpose of the finally block\n",
        "* The finally block runs no matter what—whether an exception occurs or not.  It’s useful for clean-up tasks like closing a file or releasing a resource.\n",
        "\n",
        "4. What is logging in Python?\n",
        "* Logging helps track events that happen when your code runs. It’s like writing a diary of errors, info messages, or warnings to help debug or monitor the application.\n",
        "\n",
        "5. Significance of __del__ method\n",
        "* This is Python’s destructor. It’s called when an object is about to be destroyed, and can be used to release resources like closing files or network connections.\n",
        "\n",
        "6. Difference between import and from ... import\n",
        "* import module: You access functions using module.function().\n",
        "\n",
        "* from module import function: You can use function() directly without prefixing the module name.\n",
        "\n",
        "7. Handling multiple exceptions in Python\n",
        "* Use multiple except blocks or a single block with a tuple of exceptions:\n",
        "\n",
        "\n",
        "\n",
        "\n",
        "\n",
        "\n",
        "\n"
      ],
      "metadata": {
        "id": "DuFqNJTy3F3V"
      }
    },
    {
      "cell_type": "code",
      "source": [
        "try:\n",
        "    value = int(\"abc\")  # This will raise a ValueError\n",
        "    result = 10 / 0     # This would raise ZeroDivisionError if reached\n",
        "except (ValueError, ZeroDivisionError) as e:\n",
        "    print(\"Caught an error:\", e)"
      ],
      "metadata": {
        "colab": {
          "base_uri": "https://localhost:8080/"
        },
        "id": "GSJkb3mn4Exn",
        "outputId": "d20ab718-06fc-4bb9-b615-d2e6be19e1f2"
      },
      "execution_count": 12,
      "outputs": [
        {
          "output_type": "stream",
          "name": "stdout",
          "text": [
            "Caught an error: invalid literal for int() with base 10: 'abc'\n"
          ]
        }
      ]
    },
    {
      "cell_type": "markdown",
      "source": [
        "8. Purpose of with statement for files\n",
        "* It manages file resources efficiently. Files are automatically closed after their block finishes, even if an error happens:"
      ],
      "metadata": {
        "id": "GWINiijG4Qfm"
      }
    },
    {
      "cell_type": "code",
      "source": [
        "with open(\"myfile.txt\", \"w\") as f:\n",
        "    f.write(\"Hello, world!\")"
      ],
      "metadata": {
        "id": "5wDi26Jg4Tq_"
      },
      "execution_count": 9,
      "outputs": []
    },
    {
      "cell_type": "markdown",
      "source": [
        "9. Multithreading vs Multiprocessing\n",
        "* Multithreading: Multiple threads run in the same process; good for I/O-bound tasks.\n",
        "\n",
        "* Multiprocessing: Multiple processes run independently; better for CPU-bound tasks.\n",
        "\n",
        "10. Advantages of logging\n",
        "* Tracks bugs and issues\n",
        "\n",
        "* Maintains a history of events\n",
        "\n",
        "* Helps with debugging\n",
        "\n",
        "* Can log info even after app crashes\n",
        "\n",
        "11. Memory management in Python\n",
        "* It includes allocation and deallocation of memory automatically using reference counting and garbage collection. Developers don’t manage it manually.\n",
        "\n",
        "12. Basic steps in exception handling\n",
        "* Code runs inside a try block\n",
        "\n",
        "* If error occurs, control shifts to the except block\n",
        "\n",
        "* Optionally, else runs if no error\n",
        "\n",
        "* finally always runs at the end\n",
        "\n",
        "13. Why is memory management important?\n",
        "* Efficient memory use prevents crashes and keeps the program fast. Python’s automated management helps, but understanding it helps avoid memory leaks.\n",
        "\n",
        "14. Role of try and except\n",
        "* They prevent the program from stopping due to runtime errors. You try code that might fail and catch the error to handle it gracefully."
      ],
      "metadata": {
        "id": "bmw9gh-V4Vqm"
      }
    },
    {
      "cell_type": "markdown",
      "source": [
        "15. How Python's garbage collection works\n",
        "* Python tracks object references. When an object has no more references, it is deleted automatically. It uses reference counting and a cyclic garbage collector.\n",
        "\n",
        "16. Purpose of the else block in exception handling\n",
        "* It runs only if the try block doesn't raise an error. It’s useful when you want to do something only if everything in try went smoothly.\n",
        "\n",
        "17. Common logging levels in Python\n",
        "* DEBUG: Detailed info, mostly for devs\n",
        "\n",
        "* INFO: General updates\n",
        "\n",
        "* WARNING: Something unexpected but not crashing\n",
        "\n",
        "* ERROR: A serious issue occurred\n",
        "\n",
        "* CRITICAL: Program may not continue\n",
        "\n",
        "18. Difference between os.fork() and multiprocessing\n",
        "* os.fork() is UNIX-specific and creates a child process directly.\n",
        "\n",
        "* multiprocessing is cross-platform and offers a higher-level, easier-to-use interface for managing processes.\n",
        "\n",
        "19. Importance of closing a file\n",
        "* If a file isn’t closed, it can lead to data not being saved, file corruption, or memory/resource leaks.\n",
        "\n",
        "20. Difference between file.read() and file.readline()\n",
        "* read(): Reads the whole file content at once\n",
        "\n",
        "* readline(): Reads one line at a time, useful for large files\n",
        "\n",
        "21. What is the logging module used for?\n",
        "* It’s used to record messages about a program’s execution status, helping in debugging and monitoring.\n",
        "\n",
        "22. Use of os module in file handling\n",
        "* It lets you interact with the operating system—for example, creating folders, checking if a file exists, or removing files.\n",
        "\n",
        "23. Challenges in memory management\n",
        "* Circular references\n",
        "\n",
        "* Memory leaks if objects are kept alive unintentionally\n",
        "\n",
        "* High memory use in large apps if not optimized\n",
        "\n",
        "24. Raising exceptions manually\n",
        "* You can raise your own exceptions using raise, like:"
      ],
      "metadata": {
        "id": "Ma8cj_f94xbT"
      }
    },
    {
      "cell_type": "code",
      "source": [
        "age = -5\n",
        "if age < 0:\n",
        "    raise ValueError(\"Age cannot be negative\")"
      ],
      "metadata": {
        "colab": {
          "base_uri": "https://localhost:8080/",
          "height": 180
        },
        "id": "dl7d1_jg5F2h",
        "outputId": "0d7b37bf-373a-465c-c3ee-5970608ac2b0"
      },
      "execution_count": 11,
      "outputs": [
        {
          "output_type": "error",
          "ename": "ValueError",
          "evalue": "Age cannot be negative",
          "traceback": [
            "\u001b[0;31m---------------------------------------------------------------------------\u001b[0m",
            "\u001b[0;31mValueError\u001b[0m                                Traceback (most recent call last)",
            "\u001b[0;32m/tmp/ipython-input-11-2789892904.py\u001b[0m in \u001b[0;36m<cell line: 0>\u001b[0;34m()\u001b[0m\n\u001b[1;32m      1\u001b[0m \u001b[0mage\u001b[0m \u001b[0;34m=\u001b[0m \u001b[0;34m-\u001b[0m\u001b[0;36m5\u001b[0m\u001b[0;34m\u001b[0m\u001b[0;34m\u001b[0m\u001b[0m\n\u001b[1;32m      2\u001b[0m \u001b[0;32mif\u001b[0m \u001b[0mage\u001b[0m \u001b[0;34m<\u001b[0m \u001b[0;36m0\u001b[0m\u001b[0;34m:\u001b[0m\u001b[0;34m\u001b[0m\u001b[0;34m\u001b[0m\u001b[0m\n\u001b[0;32m----> 3\u001b[0;31m     \u001b[0;32mraise\u001b[0m \u001b[0mValueError\u001b[0m\u001b[0;34m(\u001b[0m\u001b[0;34m\"Age cannot be negative\"\u001b[0m\u001b[0;34m)\u001b[0m\u001b[0;34m\u001b[0m\u001b[0;34m\u001b[0m\u001b[0m\n\u001b[0m",
            "\u001b[0;31mValueError\u001b[0m: Age cannot be negative"
          ]
        }
      ]
    },
    {
      "cell_type": "markdown",
      "source": [
        "25. Importance of multithreading in certain applications\n",
        "* In tasks like file I/O, network requests, or GUIs, multithreading helps keep the program responsive by running tasks in parallel."
      ],
      "metadata": {
        "id": "HUWVmTQx5INF"
      }
    },
    {
      "cell_type": "markdown",
      "source": [
        "PRACTICAL ANSWERS"
      ],
      "metadata": {
        "id": "v5sdf6bJ7NMN"
      }
    },
    {
      "cell_type": "markdown",
      "source": [
        "1. Open a file and write a string to it"
      ],
      "metadata": {
        "id": "nfPcIsm38Dx5"
      }
    },
    {
      "cell_type": "code",
      "source": [
        "with open(\"output.txt\", \"w\") as file:\n",
        "    file.write(\"Hello, this is a test message.\")"
      ],
      "metadata": {
        "id": "iAEHAgRc3eNq"
      },
      "execution_count": 13,
      "outputs": []
    },
    {
      "cell_type": "markdown",
      "source": [
        "2. Read contents of a file and print each line"
      ],
      "metadata": {
        "id": "qaY8GgFm8E3v"
      }
    },
    {
      "cell_type": "code",
      "source": [
        "with open(\"output.txt\", \"r\") as file:\n",
        "    for line in file:\n",
        "        print(line.strip())"
      ],
      "metadata": {
        "colab": {
          "base_uri": "https://localhost:8080/"
        },
        "id": "4jxMy_2d8HBr",
        "outputId": "9c46a0ea-fdcd-4d20-be54-b6aae3469938"
      },
      "execution_count": 14,
      "outputs": [
        {
          "output_type": "stream",
          "name": "stdout",
          "text": [
            "Hello, this is a test message.\n"
          ]
        }
      ]
    },
    {
      "cell_type": "markdown",
      "source": [
        "3. Handle file not found error while opening for reading"
      ],
      "metadata": {
        "id": "vtbTeBtv8K_k"
      }
    },
    {
      "cell_type": "code",
      "source": [
        "try:\n",
        "    with open(\"nonexistent.txt\", \"r\") as file:\n",
        "        print(file.read())\n",
        "except FileNotFoundError:\n",
        "    print(\"The file does not exist.\")"
      ],
      "metadata": {
        "colab": {
          "base_uri": "https://localhost:8080/"
        },
        "id": "v0x1qbnc8NKg",
        "outputId": "8bd56687-61f0-4785-d58a-19b40fc75c63"
      },
      "execution_count": 15,
      "outputs": [
        {
          "output_type": "stream",
          "name": "stdout",
          "text": [
            "The file does not exist.\n"
          ]
        }
      ]
    },
    {
      "cell_type": "markdown",
      "source": [
        "4. Copy content from one file to another"
      ],
      "metadata": {
        "id": "zTcnMAo68QoS"
      }
    },
    {
      "cell_type": "code",
      "source": [
        "try:\n",
        "    with open(\"source.txt\", \"r\") as source_file:\n",
        "        content = source_file.read()\n",
        "\n",
        "    with open(\"destination.txt\", \"w\") as destination_file:\n",
        "        destination_file.write(content)\n",
        "\n",
        "    print(\"Content copied successfully.\")\n",
        "except FileNotFoundError:\n",
        "    print(\"Source file does not exist.\")\n",
        "except Exception as e:\n",
        "    print(\"An error occurred:\", e)"
      ],
      "metadata": {
        "colab": {
          "base_uri": "https://localhost:8080/"
        },
        "id": "0sdkPovU8TCO",
        "outputId": "4d451274-f72f-4c3f-ea1f-eec909d46914"
      },
      "execution_count": 39,
      "outputs": [
        {
          "output_type": "stream",
          "name": "stdout",
          "text": [
            "Source file does not exist.\n"
          ]
        }
      ]
    },
    {
      "cell_type": "markdown",
      "source": [
        "5. Handle division by zero error"
      ],
      "metadata": {
        "id": "fVg56b-Q8aku"
      }
    },
    {
      "cell_type": "code",
      "source": [
        "try:\n",
        "    result = 10 / 0\n",
        "except ZeroDivisionError:\n",
        "    print(\"Cannot divide by zero.\")"
      ],
      "metadata": {
        "colab": {
          "base_uri": "https://localhost:8080/"
        },
        "id": "f-jcs2Qp8bBs",
        "outputId": "778ede07-e1fc-489a-cefd-13dd47b0a7ef"
      },
      "execution_count": 18,
      "outputs": [
        {
          "output_type": "stream",
          "name": "stdout",
          "text": [
            "Cannot divide by zero.\n"
          ]
        }
      ]
    },
    {
      "cell_type": "markdown",
      "source": [
        "6. Log division by zero error to a log file"
      ],
      "metadata": {
        "id": "IaoN93lm8dko"
      }
    },
    {
      "cell_type": "code",
      "source": [
        "import logging\n",
        "\n",
        "logging.basicConfig(filename=\"error.log\", level=logging.ERROR)\n",
        "\n",
        "try:\n",
        "    result = 10 / 0\n",
        "except ZeroDivisionError as e:\n",
        "    logging.error(f\"Error occurred: {e}\")"
      ],
      "metadata": {
        "colab": {
          "base_uri": "https://localhost:8080/"
        },
        "id": "49b6-UG18ffU",
        "outputId": "44e3fe7c-9e49-4fec-967d-aa3f06ed894d"
      },
      "execution_count": 19,
      "outputs": [
        {
          "output_type": "stream",
          "name": "stderr",
          "text": [
            "ERROR:root:Error occurred: division by zero\n"
          ]
        }
      ]
    },
    {
      "cell_type": "markdown",
      "source": [
        "7. Log at different levels"
      ],
      "metadata": {
        "id": "EEM1Q5EV8iMg"
      }
    },
    {
      "cell_type": "code",
      "source": [
        "import logging\n",
        "\n",
        "logging.basicConfig(level=logging.DEBUG, format='%(levelname)s:%(message)s')\n",
        "\n",
        "logging.info(\"This is an info message.\")\n",
        "logging.warning(\"This is a warning message.\")\n",
        "logging.error(\"This is an error message.\")"
      ],
      "metadata": {
        "colab": {
          "base_uri": "https://localhost:8080/"
        },
        "id": "_DgBbNvw8kMe",
        "outputId": "88cb0c6e-bbc3-4ad1-bffd-a97090d584dc"
      },
      "execution_count": 20,
      "outputs": [
        {
          "output_type": "stream",
          "name": "stderr",
          "text": [
            "WARNING:root:This is a warning message.\n",
            "ERROR:root:This is an error message.\n"
          ]
        }
      ]
    },
    {
      "cell_type": "markdown",
      "source": [
        "8. Handle file open error using exception handling"
      ],
      "metadata": {
        "id": "Ra79EMSn8mTz"
      }
    },
    {
      "cell_type": "code",
      "source": [
        "try:\n",
        "    with open(\"missing.txt\", \"r\") as file:\n",
        "        print(file.read())\n",
        "except IOError:\n",
        "    print(\"File open failed.\")"
      ],
      "metadata": {
        "colab": {
          "base_uri": "https://localhost:8080/"
        },
        "id": "DUFPApvn8oRU",
        "outputId": "dbfcbe26-ad43-4840-d62b-2e4e9714f89d"
      },
      "execution_count": 21,
      "outputs": [
        {
          "output_type": "stream",
          "name": "stdout",
          "text": [
            "File open failed.\n"
          ]
        }
      ]
    },
    {
      "cell_type": "markdown",
      "source": [
        "9. Read file line by line and store in list"
      ],
      "metadata": {
        "id": "wCg3UMjn8rOn"
      }
    },
    {
      "cell_type": "code",
      "source": [
        "with open(\"output.txt\", \"r\") as file:\n",
        "    lines = [line.strip() for line in file]\n",
        "print(lines)"
      ],
      "metadata": {
        "colab": {
          "base_uri": "https://localhost:8080/"
        },
        "id": "iXAvV3aV8tGZ",
        "outputId": "0ab89303-1a50-41b6-c1be-6f7a760386c9"
      },
      "execution_count": 22,
      "outputs": [
        {
          "output_type": "stream",
          "name": "stdout",
          "text": [
            "['Hello, this is a test message.']\n"
          ]
        }
      ]
    },
    {
      "cell_type": "markdown",
      "source": [
        "10. Append data to existing file"
      ],
      "metadata": {
        "id": "Pplidjoa8v4U"
      }
    },
    {
      "cell_type": "code",
      "source": [
        "with open(\"output.txt\", \"a\") as file:\n",
        "    file.write(\"\\nNew line added.\")"
      ],
      "metadata": {
        "id": "aAyZRxt38xnm"
      },
      "execution_count": 24,
      "outputs": []
    },
    {
      "cell_type": "markdown",
      "source": [
        "11. Handle missing dictionary key with try-except"
      ],
      "metadata": {
        "id": "S5YyKTS281EA"
      }
    },
    {
      "cell_type": "code",
      "source": [
        "try:\n",
        "    data = {\"name\": \"Alice\"}\n",
        "    print(data[\"age\"])\n",
        "except KeyError:\n",
        "    print(\"Key does not exist.\")"
      ],
      "metadata": {
        "colab": {
          "base_uri": "https://localhost:8080/"
        },
        "id": "As_lU0uM8205",
        "outputId": "85c42116-395a-4007-b240-a7ca9b3ed666"
      },
      "execution_count": 25,
      "outputs": [
        {
          "output_type": "stream",
          "name": "stdout",
          "text": [
            "Key does not exist.\n"
          ]
        }
      ]
    },
    {
      "cell_type": "markdown",
      "source": [
        "12. Multiple except blocks"
      ],
      "metadata": {
        "id": "MSjXSOoU849_"
      }
    },
    {
      "cell_type": "code",
      "source": [
        "try:\n",
        "    lst = [1, 2, 3]\n",
        "    print(lst[5])\n",
        "except IndexError:\n",
        "    print(\"Index error occurred.\")\n",
        "except KeyError:\n",
        "    print(\"Key error occurred.\")"
      ],
      "metadata": {
        "colab": {
          "base_uri": "https://localhost:8080/"
        },
        "id": "4esLGLlt87Af",
        "outputId": "56f7405e-8ee7-4545-a2dc-5afc7f06a830"
      },
      "execution_count": 26,
      "outputs": [
        {
          "output_type": "stream",
          "name": "stdout",
          "text": [
            "Index error occurred.\n"
          ]
        }
      ]
    },
    {
      "cell_type": "markdown",
      "source": [
        "13. Check if file exists before reading"
      ],
      "metadata": {
        "id": "AOVTXj1k89u_"
      }
    },
    {
      "cell_type": "code",
      "source": [
        "import os\n",
        "\n",
        "if os.path.exists(\"output.txt\"):\n",
        "    with open(\"output.txt\", \"r\") as file:\n",
        "        print(file.read())\n",
        "else:\n",
        "    print(\"File does not exist.\")"
      ],
      "metadata": {
        "colab": {
          "base_uri": "https://localhost:8080/"
        },
        "id": "fACIokam8_sx",
        "outputId": "d7f34037-5f04-4be8-8312-11522adb4a9f"
      },
      "execution_count": 27,
      "outputs": [
        {
          "output_type": "stream",
          "name": "stdout",
          "text": [
            "Hello, this is a test message.\n",
            "New line added.\n",
            "New line added.\n"
          ]
        }
      ]
    },
    {
      "cell_type": "markdown",
      "source": [
        "14. Log informational and error messages"
      ],
      "metadata": {
        "id": "PxluGv1C9CBU"
      }
    },
    {
      "cell_type": "code",
      "source": [
        "import logging\n",
        "\n",
        "logging.basicConfig(filename=\"app.log\", level=logging.INFO)\n",
        "\n",
        "logging.info(\"Program started\")\n",
        "try:\n",
        "    result = 10 / 0\n",
        "except ZeroDivisionError as e:\n",
        "    logging.error(f\"Error: {e}\")"
      ],
      "metadata": {
        "colab": {
          "base_uri": "https://localhost:8080/"
        },
        "id": "Mjx0B6cK9D4T",
        "outputId": "f9818b6d-3aa3-4278-d4f6-338e44b889e8"
      },
      "execution_count": 28,
      "outputs": [
        {
          "output_type": "stream",
          "name": "stderr",
          "text": [
            "ERROR:root:Error: division by zero\n"
          ]
        }
      ]
    },
    {
      "cell_type": "markdown",
      "source": [
        "15. Print content of a file and handle if it’s empty"
      ],
      "metadata": {
        "id": "GtVEoLTC9GUK"
      }
    },
    {
      "cell_type": "code",
      "source": [
        "with open(\"output.txt\", \"r\") as file:\n",
        "    content = file.read()\n",
        "    if content.strip() == \"\":\n",
        "        print(\"File is empty.\")\n",
        "    else:\n",
        "        print(content)"
      ],
      "metadata": {
        "colab": {
          "base_uri": "https://localhost:8080/"
        },
        "id": "yhu0N25j9IOX",
        "outputId": "0422f657-33f3-4c33-eb8f-07111e2c8560"
      },
      "execution_count": 29,
      "outputs": [
        {
          "output_type": "stream",
          "name": "stdout",
          "text": [
            "Hello, this is a test message.\n",
            "New line added.\n",
            "New line added.\n"
          ]
        }
      ]
    },
    {
      "cell_type": "markdown",
      "source": [
        "16. Memory profiling of a small program"
      ],
      "metadata": {
        "id": "fJEQzp8l9Kjn"
      }
    },
    {
      "cell_type": "code",
      "source": [
        "import tracemalloc\n",
        "\n",
        "tracemalloc.start()\n",
        "\n",
        "a = [i for i in range(100000)]\n",
        "current, peak = tracemalloc.get_traced_memory()\n",
        "print(f\"Current: {current / 10**6}MB; Peak: {peak / 10**6}MB\")\n",
        "\n",
        "tracemalloc.stop()"
      ],
      "metadata": {
        "colab": {
          "base_uri": "https://localhost:8080/"
        },
        "id": "Mj9xJ-a79M0n",
        "outputId": "057776ef-d77b-46a2-9aae-648c9dd4b431"
      },
      "execution_count": 30,
      "outputs": [
        {
          "output_type": "stream",
          "name": "stdout",
          "text": [
            "Current: 3.994144MB; Peak: 4.005452MB\n"
          ]
        }
      ]
    },
    {
      "cell_type": "markdown",
      "source": [
        "17. Write list of numbers to file (1 per line)"
      ],
      "metadata": {
        "id": "J-ZxIZOm9QQz"
      }
    },
    {
      "cell_type": "code",
      "source": [
        "numbers = [1, 2, 3, 4, 5]\n",
        "with open(\"numbers.txt\", \"w\") as file:\n",
        "    for num in numbers:\n",
        "        file.write(f\"{num}\\n\")"
      ],
      "metadata": {
        "id": "h-ferUx19SiF"
      },
      "execution_count": 31,
      "outputs": []
    },
    {
      "cell_type": "markdown",
      "source": [
        "18. Basic logging setup with rotation after 1MB"
      ],
      "metadata": {
        "id": "IeHWeNEB9U0T"
      }
    },
    {
      "cell_type": "code",
      "source": [
        "import logging\n",
        "from logging.handlers import RotatingFileHandler\n",
        "\n",
        "handler = RotatingFileHandler(\"rotating.log\", maxBytes=1*1024*1024, backupCount=3)\n",
        "logging.basicConfig(handlers=[handler], level=logging.INFO)\n",
        "\n",
        "logging.info(\"This is a rotating log example.\")"
      ],
      "metadata": {
        "id": "V_PinWrK9Xdl"
      },
      "execution_count": 32,
      "outputs": []
    },
    {
      "cell_type": "markdown",
      "source": [
        "19. Handle both IndexError and KeyError"
      ],
      "metadata": {
        "id": "6CEr3lgC9ajO"
      }
    },
    {
      "cell_type": "code",
      "source": [
        "try:\n",
        "    my_list = [1, 2]\n",
        "    print(my_list[5])\n",
        "    my_dict = {\"name\": \"Bob\"}\n",
        "    print(my_dict[\"age\"])\n",
        "except IndexError:\n",
        "    print(\"Caught IndexError\")\n",
        "except KeyError:\n",
        "    print(\"Caught KeyError\")"
      ],
      "metadata": {
        "colab": {
          "base_uri": "https://localhost:8080/"
        },
        "id": "2qZIsftc9c3T",
        "outputId": "d3b71f48-4a14-43f6-9519-4dce5f88e55b"
      },
      "execution_count": 33,
      "outputs": [
        {
          "output_type": "stream",
          "name": "stdout",
          "text": [
            "Caught IndexError\n"
          ]
        }
      ]
    },
    {
      "cell_type": "markdown",
      "source": [
        "20. Read file using context manager"
      ],
      "metadata": {
        "id": "5jUIo9uv9fee"
      }
    },
    {
      "cell_type": "code",
      "source": [
        "with open(\"output.txt\", \"r\") as file:\n",
        "    print(file.read())"
      ],
      "metadata": {
        "colab": {
          "base_uri": "https://localhost:8080/"
        },
        "id": "P3oglfyd9hoZ",
        "outputId": "387600e4-98aa-4895-ef9e-3f4e98168488"
      },
      "execution_count": 34,
      "outputs": [
        {
          "output_type": "stream",
          "name": "stdout",
          "text": [
            "Hello, this is a test message.\n",
            "New line added.\n",
            "New line added.\n"
          ]
        }
      ]
    },
    {
      "cell_type": "markdown",
      "source": [
        "21. Count occurrences of a specific word in file"
      ],
      "metadata": {
        "id": "KUhovOEb9jwW"
      }
    },
    {
      "cell_type": "code",
      "source": [
        "word_to_find = \"Python\"\n",
        "with open(\"output.txt\", \"r\") as file:\n",
        "    content = file.read()\n",
        "    count = content.count(word_to_find)\n",
        "print(f\"'{word_to_find}' occurs {count} times.\")"
      ],
      "metadata": {
        "colab": {
          "base_uri": "https://localhost:8080/"
        },
        "id": "aZ5gUrk59ltX",
        "outputId": "5165b6b6-e571-4391-e0eb-7aee2d560670"
      },
      "execution_count": 35,
      "outputs": [
        {
          "output_type": "stream",
          "name": "stdout",
          "text": [
            "'Python' occurs 0 times.\n"
          ]
        }
      ]
    },
    {
      "cell_type": "markdown",
      "source": [
        "22. Check if file is empty before reading"
      ],
      "metadata": {
        "id": "37IoNoXV9ogc"
      }
    },
    {
      "cell_type": "code",
      "source": [
        "import os\n",
        "\n",
        "if os.path.getsize(\"output.txt\") == 0:\n",
        "    print(\"File is empty.\")\n",
        "else:\n",
        "    with open(\"output.txt\", \"r\") as file:\n",
        "        print(file.read())"
      ],
      "metadata": {
        "colab": {
          "base_uri": "https://localhost:8080/"
        },
        "id": "KcK1wMT_9qif",
        "outputId": "34ef37c9-524e-4d3d-a84b-7dd7719c7f7f"
      },
      "execution_count": 36,
      "outputs": [
        {
          "output_type": "stream",
          "name": "stdout",
          "text": [
            "Hello, this is a test message.\n",
            "New line added.\n",
            "New line added.\n"
          ]
        }
      ]
    },
    {
      "cell_type": "markdown",
      "source": [
        "23. Log error during file handling"
      ],
      "metadata": {
        "id": "p3q1HcU39s78"
      }
    },
    {
      "cell_type": "code",
      "source": [
        "import logging\n",
        "\n",
        "logging.basicConfig(filename=\"file_error.log\", level=logging.ERROR)\n",
        "\n",
        "try:\n",
        "    with open(\"unknown.txt\", \"r\") as f:\n",
        "        content = f.read()\n",
        "except Exception as e:\n",
        "    logging.error(f\"File handling error: {e}\")"
      ],
      "metadata": {
        "colab": {
          "base_uri": "https://localhost:8080/"
        },
        "id": "NQvu9IFs9uyH",
        "outputId": "01f88e25-c0cc-467c-9c84-59d5331bf486"
      },
      "execution_count": 37,
      "outputs": [
        {
          "output_type": "stream",
          "name": "stderr",
          "text": [
            "ERROR:root:File handling error: [Errno 2] No such file or directory: 'unknown.txt'\n"
          ]
        }
      ]
    }
  ]
}